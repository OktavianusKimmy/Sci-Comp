{
 "cells": [
  {
   "cell_type": "code",
   "execution_count": 7,
   "metadata": {},
   "outputs": [],
   "source": [
    "import numpy as np"
   ]
  },
  {
   "cell_type": "code",
   "execution_count": 2,
   "metadata": {},
   "outputs": [],
   "source": [
    "def f(x):\n",
    "    return 8 * (x**5) - 10 * (x**4) + (x**3) + 2 * (x**2) - 9 * x + 13\n",
    "\n",
    "def g(x):\n",
    "    return 40 * (x**4) - 40 * (x**3) + 3 * (x**2) + 4 * x - 9"
   ]
  },
  {
   "cell_type": "code",
   "execution_count": 13,
   "metadata": {},
   "outputs": [],
   "source": [
    "def newton_raphson(x, tolerance=0.09, max_iteration = 50):\n",
    "    for i in range(max_iteration):\n",
    "        x = x - (f(x)/g(x))\n",
    "        print(f\"Iteration: {i+1} : {x}\")\n",
    "        if np.abs(f(x)) < tolerance:\n",
    "            return x"
   ]
  },
  {
   "cell_type": "code",
   "execution_count": 15,
   "metadata": {},
   "outputs": [
    {
     "name": "stdout",
     "output_type": "stream",
     "text": [
      "Iteration: 1 : 3.5\n",
      "Iteration: 2 : 2.8647860483917538\n",
      "Iteration: 3 : 2.360944805755794\n",
      "Iteration: 4 : 1.9626222937934534\n",
      "Iteration: 5 : 1.646910806687555\n",
      "Iteration: 6 : 1.3878385398473148\n",
      "Iteration: 7 : 1.1338231416651199\n",
      "Iteration: 8 : 0.3987597773538015\n",
      "Iteration: 9 : 1.5368874113519095\n",
      "Iteration: 10 : 1.2895806214049284\n",
      "Iteration: 11 : 0.9917540658842565\n",
      "Iteration: 12 : 3.079178417650039\n",
      "Iteration: 13 : 2.5307896647002646\n",
      "Iteration: 14 : 2.096800496412317\n",
      "Iteration: 15 : 1.7536793520133376\n",
      "Iteration: 16 : 1.477692492299185\n",
      "Iteration: 17 : 1.2322870670164525\n",
      "Iteration: 18 : 0.8690855445096056\n",
      "Iteration: 19 : 1.7065261952914104\n",
      "Iteration: 20 : 1.4384557322553408\n",
      "Iteration: 21 : 1.1914837411738728\n",
      "Iteration: 22 : 0.7397307568568134\n",
      "Iteration: 23 : 1.5082037705534481\n",
      "Iteration: 24 : 1.2623472335171708\n",
      "Iteration: 25 : 0.9392581191352591\n",
      "Iteration: 26 : 2.068403388913368\n",
      "Iteration: 27 : 1.7311438054037858\n",
      "Iteration: 28 : 1.4590135727120204\n",
      "Iteration: 29 : 1.2132049114972894\n",
      "Iteration: 30 : 0.8148787647714734\n",
      "Iteration: 31 : 1.5886035724062926\n",
      "Iteration: 32 : 1.3367698801407344\n",
      "Iteration: 33 : 1.066798543275883\n",
      "Iteration: 34 : -1.525381916113867\n",
      "Iteration: 35 : -1.261763928121796\n",
      "Iteration: 36 : -1.1144896849839816\n",
      "Iteration: 37 : -1.0674215394787103\n",
      "Iteration: 38 : -1.0630283300716372\n",
      "-1.0630283300716372\n"
     ]
    }
   ],
   "source": [
    "print(f\"{newton_raphson(1)}\")"
   ]
  },
  {
   "cell_type": "markdown",
   "metadata": {},
   "source": [
    "BISECTION"
   ]
  },
  {
   "cell_type": "code",
   "execution_count": 21,
   "metadata": {},
   "outputs": [],
   "source": [
    "iteration = 0\n",
    "def bisection(left, right, max_tolerance=0.09):\n",
    "    global iteration\n",
    "    iteration += 1\n",
    "    \n",
    "    if np.sign(f(left)) == np.sign(f(right)):\n",
    "        print(\"No root\")\n",
    "        return False\n",
    "    \n",
    "    x = (left + right) / 2\n",
    "\n",
    "    print(f\"Iteration {iteration} f({x}) = {f(x)}\")\n",
    "\n",
    "    if np.abs(f(x)) < max_tolerance:\n",
    "        print(f\"Root found at {iteration}: {x}\")\n",
    "        return True\n",
    "    \n",
    "    if np.sign(f(left)) == np.sign(f(x)):\n",
    "        return bisection(x, right)\n",
    "    \n",
    "    if np.sign(f(right)) == np.sign(f(x)):\n",
    "        return bisection(left, x)"
   ]
  },
  {
   "cell_type": "code",
   "execution_count": 22,
   "metadata": {},
   "outputs": [
    {
     "name": "stdout",
     "output_type": "stream",
     "text": [
      "Iteration 1 f(0.0) = 13.0\n",
      "Iteration 2 f(-5.0) = -31267.0\n",
      "Iteration 3 f(-2.5) = -1139.5\n",
      "Iteration 4 f(-1.25) = -23.40625\n",
      "Iteration 5 f(-0.625) = 16.873291015625\n",
      "Iteration 6 f(-0.9375) = 8.853004455566406\n",
      "Iteration 7 f(-1.09375) = -2.905379056930542\n",
      "Iteration 8 f(-1.015625) = 3.87136160582304\n",
      "Iteration 9 f(-1.0546875) = 0.7299417986068875\n",
      "Iteration 10 f(-1.07421875) = -1.0230034934575087\n",
      "Iteration 11 f(-1.064453125) = -0.1307314031948863\n",
      "Iteration 12 f(-1.0595703125) = 0.3035082712643984\n",
      "Iteration 13 f(-1.06201171875) = 0.08737002287372775\n",
      "Root found at 13: -1.06201171875\n"
     ]
    },
    {
     "data": {
      "text/plain": [
       "True"
      ]
     },
     "execution_count": 22,
     "metadata": {},
     "output_type": "execute_result"
    }
   ],
   "source": [
    "bisection(-10, 10)"
   ]
  }
 ],
 "metadata": {
  "kernelspec": {
   "display_name": "sciComp",
   "language": "python",
   "name": "python3"
  },
  "language_info": {
   "codemirror_mode": {
    "name": "ipython",
    "version": 3
   },
   "file_extension": ".py",
   "mimetype": "text/x-python",
   "name": "python",
   "nbconvert_exporter": "python",
   "pygments_lexer": "ipython3",
   "version": "3.12.7"
  }
 },
 "nbformat": 4,
 "nbformat_minor": 2
}
