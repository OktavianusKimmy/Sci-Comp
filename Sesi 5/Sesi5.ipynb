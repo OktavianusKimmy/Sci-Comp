{
 "cells": [
  {
   "cell_type": "markdown",
   "metadata": {},
   "source": [
    "Sesi 5"
   ]
  },
  {
   "cell_type": "code",
   "execution_count": 1,
   "metadata": {},
   "outputs": [],
   "source": [
    "import numpy as np"
   ]
  },
  {
   "cell_type": "code",
   "execution_count": 2,
   "metadata": {},
   "outputs": [],
   "source": [
    "def f(x):\n",
    "    return 6*x**5 - 2*x**3 - x**2"
   ]
  },
  {
   "cell_type": "code",
   "execution_count": 3,
   "metadata": {},
   "outputs": [
    {
     "name": "stdout",
     "output_type": "stream",
     "text": [
      "[2.         2.03030303 2.06060606 2.09090909 2.12121212 2.15151515\n",
      " 2.18181818 2.21212121 2.24242424 2.27272727 2.3030303  2.33333333\n",
      " 2.36363636 2.39393939 2.42424242 2.45454545 2.48484848 2.51515152\n",
      " 2.54545455 2.57575758 2.60606061 2.63636364 2.66666667 2.6969697\n",
      " 2.72727273 2.75757576 2.78787879 2.81818182 2.84848485 2.87878788\n",
      " 2.90909091 2.93939394 2.96969697 3.         3.03030303 3.06060606\n",
      " 3.09090909 3.12121212 3.15151515 3.18181818 3.21212121 3.24242424\n",
      " 3.27272727 3.3030303  3.33333333 3.36363636 3.39393939 3.42424242\n",
      " 3.45454545 3.48484848 3.51515152 3.54545455 3.57575758 3.60606061\n",
      " 3.63636364 3.66666667 3.6969697  3.72727273 3.75757576 3.78787879\n",
      " 3.81818182 3.84848485 3.87878788 3.90909091 3.93939394 3.96969697\n",
      " 4.         4.03030303 4.06060606 4.09090909 4.12121212 4.15151515\n",
      " 4.18181818 4.21212121 4.24242424 4.27272727 4.3030303  4.33333333\n",
      " 4.36363636 4.39393939 4.42424242 4.45454545 4.48484848 4.51515152\n",
      " 4.54545455 4.57575758 4.60606061 4.63636364 4.66666667 4.6969697\n",
      " 4.72727273 4.75757576 4.78787879 4.81818182 4.84848485 4.87878788\n",
      " 4.90909091 4.93939394 4.96969697 5.        ]\n"
     ]
    }
   ],
   "source": [
    "a = 2\n",
    "b = 5\n",
    "points = 100\n",
    "width = (b - a) / (points - 1)\n",
    "x = np.linspace(a, b, points)\n",
    "print(x)"
   ]
  },
  {
   "cell_type": "markdown",
   "metadata": {},
   "source": [
    "Left Riemann"
   ]
  },
  {
   "cell_type": "code",
   "execution_count": 43,
   "metadata": {},
   "outputs": [
    {
     "name": "stdout",
     "output_type": "stream",
     "text": [
      "14941.569779943185\n"
     ]
    }
   ],
   "source": [
    "leftRiemann = width * np.sum(f(x[:-1]))\n",
    "print(leftRiemann)"
   ]
  },
  {
   "cell_type": "markdown",
   "metadata": {},
   "source": [
    "Right Riemann"
   ]
  },
  {
   "cell_type": "code",
   "execution_count": 44,
   "metadata": {},
   "outputs": [
    {
     "name": "stdout",
     "output_type": "stream",
     "text": [
      "15496.206143579548\n"
     ]
    }
   ],
   "source": [
    "rightRiemann = width * np.sum(f(x[1:]))\n",
    "print(rightRiemann)"
   ]
  },
  {
   "cell_type": "markdown",
   "metadata": {},
   "source": [
    "Midpoint Rule"
   ]
  },
  {
   "cell_type": "code",
   "execution_count": 45,
   "metadata": {},
   "outputs": [
    {
     "name": "stdout",
     "output_type": "stream",
     "text": [
      "[2.01515152 2.04545455 2.07575758 2.10606061 2.13636364 2.16666667\n",
      " 2.1969697  2.22727273 2.25757576 2.28787879 2.31818182 2.34848485\n",
      " 2.37878788 2.40909091 2.43939394 2.46969697 2.5        2.53030303\n",
      " 2.56060606 2.59090909 2.62121212 2.65151515 2.68181818 2.71212121\n",
      " 2.74242424 2.77272727 2.8030303  2.83333333 2.86363636 2.89393939\n",
      " 2.92424242 2.95454545 2.98484848 3.01515152 3.04545455 3.07575758\n",
      " 3.10606061 3.13636364 3.16666667 3.1969697  3.22727273 3.25757576\n",
      " 3.28787879 3.31818182 3.34848485 3.37878788 3.40909091 3.43939394\n",
      " 3.46969697 3.5        3.53030303 3.56060606 3.59090909 3.62121212\n",
      " 3.65151515 3.68181818 3.71212121 3.74242424 3.77272727 3.8030303\n",
      " 3.83333333 3.86363636 3.89393939 3.92424242 3.95454545 3.98484848\n",
      " 4.01515152 4.04545455 4.07575758 4.10606061 4.13636364 4.16666667\n",
      " 4.1969697  4.22727273 4.25757576 4.28787879 4.31818182 4.34848485\n",
      " 4.37878788 4.40909091 4.43939394 4.46969697 4.5        4.53030303\n",
      " 4.56060606 4.59090909 4.62121212 4.65151515 4.68181818 4.71212121\n",
      " 4.74242424 4.77272727 4.8030303  4.83333333 4.86363636 4.89393939\n",
      " 4.92424242 4.95454545 4.98484848]\n",
      "15216.806022439525\n"
     ]
    }
   ],
   "source": [
    "mid = (x[:-1] + x[1:]) / 2\n",
    "print(mid)\n",
    "\n",
    "midRiemann = width * np.sum(f(mid))\n",
    "print(midRiemann)"
   ]
  },
  {
   "cell_type": "markdown",
   "metadata": {},
   "source": [
    "Trapezoid Rule"
   ]
  },
  {
   "cell_type": "code",
   "execution_count": 48,
   "metadata": {},
   "outputs": [
    {
     "name": "stdout",
     "output_type": "stream",
     "text": [
      "15218.887961761367\n"
     ]
    }
   ],
   "source": [
    "trapezoid = (width / 2) * (f(x[0]) + np.sum(2 * f(x[1:-1])) + f(x[-1]))\n",
    "print(trapezoid)"
   ]
  },
  {
   "cell_type": "code",
   "execution_count": 47,
   "metadata": {},
   "outputs": [
    {
     "name": "stdout",
     "output_type": "stream",
     "text": [
      "3\n",
      "27884.5\n"
     ]
    }
   ],
   "source": [
    "trapezoid = f(x[0]) + f(x[-1]) * ((b - a) / 2)\n",
    "print((b - a))\n",
    "print(trapezoid)"
   ]
  }
 ],
 "metadata": {
  "kernelspec": {
   "display_name": "sciComp",
   "language": "python",
   "name": "python3"
  },
  "language_info": {
   "codemirror_mode": {
    "name": "ipython",
    "version": 3
   },
   "file_extension": ".py",
   "mimetype": "text/x-python",
   "name": "python",
   "nbconvert_exporter": "python",
   "pygments_lexer": "ipython3",
   "version": "3.12.7"
  }
 },
 "nbformat": 4,
 "nbformat_minor": 2
}
