{
 "cells": [
  {
   "cell_type": "markdown",
   "id": "211abf15",
   "metadata": {},
   "source": [
    "NO 3"
   ]
  },
  {
   "cell_type": "code",
   "execution_count": 14,
   "id": "b84995df",
   "metadata": {},
   "outputs": [],
   "source": [
    "import numpy as np"
   ]
  },
  {
   "cell_type": "code",
   "execution_count": 10,
   "id": "b2b64ac1",
   "metadata": {},
   "outputs": [],
   "source": [
    "def f(x):\n",
    "    return 3*x**5 - x**3 + 2*x - 7\n",
    "\n",
    "def g(x):\n",
    "    return 15*x**4 - 3*x**2 + 2"
   ]
  },
  {
   "cell_type": "code",
   "execution_count": 11,
   "id": "721e7c68",
   "metadata": {},
   "outputs": [],
   "source": [
    "def newton_raphson(x, tol = 0.003, max_iter = 20):\n",
    "    for i in range(max_iter):\n",
    "        x = x - (f(x) / g(x))\n",
    "        print(f\"Iteration {i+1}: {x}\")\n",
    "        if np.abs(f(x)) < tol:\n",
    "            print(f\"Root is found at {i+1} iteration: {x}\")\n",
    "            return x"
   ]
  },
  {
   "cell_type": "code",
   "execution_count": 16,
   "id": "1e08da62",
   "metadata": {},
   "outputs": [
    {
     "name": "stdout",
     "output_type": "stream",
     "text": [
      "Iteration 1: 1.2142857142857142\n",
      "Iteration 2: 1.162672109711684\n",
      "Iteration 3: 1.1576408093453536\n",
      "Root is found at 3 iteration: 1.1576408093453536\n"
     ]
    },
    {
     "data": {
      "text/plain": [
       "1.1576408093453536"
      ]
     },
     "execution_count": 16,
     "metadata": {},
     "output_type": "execute_result"
    }
   ],
   "source": [
    "newton_raphson(1)"
   ]
  }
 ],
 "metadata": {
  "kernelspec": {
   "display_name": "sciComp",
   "language": "python",
   "name": "python3"
  },
  "language_info": {
   "codemirror_mode": {
    "name": "ipython",
    "version": 3
   },
   "file_extension": ".py",
   "mimetype": "text/x-python",
   "name": "python",
   "nbconvert_exporter": "python",
   "pygments_lexer": "ipython3",
   "version": "3.12.7"
  }
 },
 "nbformat": 4,
 "nbformat_minor": 5
}
