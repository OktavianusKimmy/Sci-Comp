{
 "cells": [
  {
   "cell_type": "markdown",
   "id": "86b10d4c",
   "metadata": {},
   "source": [
    "RIEMANN"
   ]
  },
  {
   "cell_type": "code",
   "execution_count": 2,
   "id": "8baf89d3",
   "metadata": {},
   "outputs": [],
   "source": [
    "import numpy as np"
   ]
  },
  {
   "cell_type": "code",
   "execution_count": 1,
   "id": "a66b3f64",
   "metadata": {},
   "outputs": [],
   "source": [
    "def f(x):\n",
    "    return 40*x**4 - 40*x**3 + 3*x**2 + 4*x - 9"
   ]
  },
  {
   "cell_type": "code",
   "execution_count": 3,
   "id": "12c563cc",
   "metadata": {},
   "outputs": [
    {
     "name": "stdout",
     "output_type": "stream",
     "text": [
      "[ 5.          5.00016667  5.00033334 ... 14.99966666 14.99983333\n",
      " 15.        ]\n"
     ]
    }
   ],
   "source": [
    "a = 5\n",
    "b = 15\n",
    "points = 60000\n",
    "width = (b - a) / (points - 1)\n",
    "x = np.linspace(a, b, points)\n",
    "print(x)"
   ]
  },
  {
   "cell_type": "markdown",
   "id": "e6ec9a76",
   "metadata": {},
   "source": [
    "LEFT RIEMANN"
   ]
  },
  {
   "cell_type": "code",
   "execution_count": 4,
   "id": "e6b4f6d7",
   "metadata": {},
   "outputs": [
    {
     "name": "stdout",
     "output_type": "stream",
     "text": [
      "5553404.111883503\n"
     ]
    }
   ],
   "source": [
    "leftRiemann = width * np.sum(f(x[:-1]))\n",
    "print(leftRiemann)"
   ]
  },
  {
   "cell_type": "markdown",
   "id": "f4eae5ba",
   "metadata": {},
   "source": [
    "RIGHT RIEMANN"
   ]
  },
  {
   "cell_type": "code",
   "execution_count": 5,
   "id": "924d59f9",
   "metadata": {},
   "outputs": [
    {
     "name": "stdout",
     "output_type": "stream",
     "text": [
      "5553715.890413146\n"
     ]
    }
   ],
   "source": [
    "rightRiemann = width * np.sum(f(x[1:]))\n",
    "print(rightRiemann)"
   ]
  },
  {
   "cell_type": "markdown",
   "id": "280f3f69",
   "metadata": {},
   "source": [
    "MIDDLE RIEMANN"
   ]
  },
  {
   "cell_type": "code",
   "execution_count": 6,
   "id": "9b799bb8",
   "metadata": {},
   "outputs": [
    {
     "name": "stdout",
     "output_type": "stream",
     "text": [
      "5553559.999425837\n"
     ]
    }
   ],
   "source": [
    "mid = (x[:-1] + x[1:]) / 2\n",
    "\n",
    "middleRiemann = width * np.sum(f(mid))\n",
    "print(middleRiemann)"
   ]
  },
  {
   "cell_type": "markdown",
   "id": "8c39a2bd",
   "metadata": {},
   "source": [
    "TRAPEZOID RULE"
   ]
  },
  {
   "cell_type": "code",
   "execution_count": 7,
   "id": "e9097882",
   "metadata": {},
   "outputs": [
    {
     "name": "stdout",
     "output_type": "stream",
     "text": [
      "5553560.001148324\n"
     ]
    }
   ],
   "source": [
    "trapezoid = (width / 2) * (f(x[0]) + np.sum(2 * f(x[1:-1])) + f(x[-1]))\n",
    "print(trapezoid)"
   ]
  }
 ],
 "metadata": {
  "kernelspec": {
   "display_name": "sciComp",
   "language": "python",
   "name": "python3"
  },
  "language_info": {
   "codemirror_mode": {
    "name": "ipython",
    "version": 3
   },
   "file_extension": ".py",
   "mimetype": "text/x-python",
   "name": "python",
   "nbconvert_exporter": "python",
   "pygments_lexer": "ipython3",
   "version": "3.12.7"
  }
 },
 "nbformat": 4,
 "nbformat_minor": 5
}
