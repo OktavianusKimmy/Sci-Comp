{
 "cells": [
  {
   "cell_type": "markdown",
   "id": "d482f246",
   "metadata": {},
   "source": [
    "GAUSS SEIDEL"
   ]
  },
  {
   "cell_type": "code",
   "execution_count": 1,
   "id": "78031ac5",
   "metadata": {},
   "outputs": [],
   "source": [
    "import numpy as np"
   ]
  },
  {
   "cell_type": "code",
   "execution_count": 2,
   "id": "c42e0c66",
   "metadata": {},
   "outputs": [],
   "source": [
    "x_arr = [\n",
    "    [\n",
    "        [8, 4, 2],\n",
    "        [1, 6, 3],\n",
    "        [5, 6, 12]\n",
    "    ],\n",
    "    [\n",
    "        [12, -7, -1],\n",
    "        [1, -7, 2],\n",
    "        [8, -1, 12]\n",
    "    ],\n",
    "    [\n",
    "        [4, 2, 7],\n",
    "        [3, -7, 5],\n",
    "        [2, -1, 3]\n",
    "    ],\n",
    "    [   \n",
    "        [14, 2, 1],\n",
    "        [1, 8, 4],\n",
    "        [9, 8, 18]\n",
    "    ],\n",
    "    [   \n",
    "        [1, 3, 6],\n",
    "        [9, 1, 12],\n",
    "        [15, 18, 1]\n",
    "    ]\n",
    "]\n",
    "y_arr = [\n",
    "    [10, 12, 15],\n",
    "    [21, 12, 4],\n",
    "    [8, 4, 5],\n",
    "    [7, 2, 6],\n",
    "    [4, 7, 6]\n",
    "]"
   ]
  },
  {
   "cell_type": "code",
   "execution_count": 3,
   "id": "4ada55f5",
   "metadata": {},
   "outputs": [],
   "source": [
    "def check_diagonal_dominant(x):\n",
    "    x = np.array(x)\n",
    "    diag = np.diag(np.abs(x))\n",
    "    non_diag = np.sum(np.abs(x), axis=1)\n",
    "\n",
    "    if np.all(diag > non_diag - diag):\n",
    "        return True\n",
    "    else:\n",
    "        return False\n",
    "    \n",
    "def gauss_seidel(x, y, max_iter = 20, tol = 0.002):\n",
    "    x = np.array(x)\n",
    "    y = np.array(y)\n",
    "    \n",
    "    diag = np.diag(x)\n",
    "\n",
    "    x = -x\n",
    "\n",
    "    np.fill_diagonal(x, 0)\n",
    "\n",
    "    old_res = np.zeros(len(x[0]))\n",
    "\n",
    "    for i in range(max_iter):\n",
    "        new_res = np.array(old_res)\n",
    "\n",
    "        for j, row in enumerate(x):\n",
    "            new_res[j] = (y[j] + np.dot(row, new_res)) / diag[j]\n",
    "\n",
    "        print(f\"Iteration #{i+1} : {new_res}\")\n",
    "\n",
    "        distance = np.sqrt(np.dot(old_res - new_res, old_res - new_res))\n",
    "\n",
    "        if distance < tol:\n",
    "            return True\n",
    "        \n",
    "        old_res = new_res\n",
    "    \n",
    "    return False\n",
    "\n",
    "def run(x, y):\n",
    "    for i, a in enumerate(x):\n",
    "        print(f\"System{i+1}\")\n",
    "        if check_diagonal_dominant(a):\n",
    "            print(\"Diagonal dominant!\")\n",
    "            if gauss_seidel(a, y[i]):\n",
    "                print(\"Konvergen!\")\n",
    "            else:\n",
    "                print(\"Max iteration reached!\")\n",
    "        else:\n",
    "            print(\"Not diagonal dominant!\")\n",
    "    "
   ]
  },
  {
   "cell_type": "code",
   "execution_count": 4,
   "id": "3c33a3af",
   "metadata": {},
   "outputs": [
    {
     "name": "stdout",
     "output_type": "stream",
     "text": [
      "System1\n",
      "Diagonal dominant!\n",
      "Iteration #1 : [ 1.25        1.79166667 -0.16666667]\n",
      "Iteration #2 : [0.39583333 2.01736111 0.07638889]\n",
      "Iteration #3 : [0.22222222 1.92476852 0.19502315]\n",
      "Iteration #4 : [0.23885995 1.86267843 0.2191358 ]\n",
      "Iteration #5 : [0.26387683 1.84645263 0.21682501]\n",
      "Iteration #6 : [0.27256744 1.84615959 0.21335044]\n",
      "Iteration #7 : [0.27358259 1.84772768 0.21214341]\n",
      "Iteration #8 : [0.27310031 1.84841158 0.21200242]\n",
      "Konvergen!\n",
      "System2\n",
      "Diagonal dominant!\n",
      "Iteration #1 : [ 1.75       -1.46428571 -0.95535714]\n",
      "Iteration #2 : [ 0.81622024 -1.87064201 -0.36670033]\n",
      "Iteration #3 : [ 0.6282338  -1.72930955 -0.22959833]\n",
      "Iteration #4 : [ 0.7221029  -1.67672768 -0.28779591]\n",
      "Iteration #5 : [ 0.74792586 -1.68966656 -0.30608945]\n",
      "Iteration #6 : [ 0.73885372 -1.69618931 -0.30058492]\n",
      "Iteration #7 : [ 0.73550749 -1.69509462 -0.29826288]\n",
      "Iteration #8 : [ 0.73633956 -1.69431231 -0.2987524 ]\n",
      "Konvergen!\n",
      "System3\n",
      "Not diagonal dominant!\n",
      "System4\n",
      "Diagonal dominant!\n",
      "Iteration #1 : [0.5    0.1875 0.    ]\n",
      "Iteration #2 : [0.47321429 0.19084821 0.01190476]\n",
      "Iteration #3 : [0.47188563 0.18506192 0.01514078]\n",
      "Iteration #4 : [0.4724811  0.18336947 0.01559524]\n",
      "Konvergen!\n",
      "System5\n",
      "Not diagonal dominant!\n"
     ]
    }
   ],
   "source": [
    "run(x_arr, y_arr)"
   ]
  }
 ],
 "metadata": {
  "kernelspec": {
   "display_name": "sciComp",
   "language": "python",
   "name": "python3"
  },
  "language_info": {
   "codemirror_mode": {
    "name": "ipython",
    "version": 3
   },
   "file_extension": ".py",
   "mimetype": "text/x-python",
   "name": "python",
   "nbconvert_exporter": "python",
   "pygments_lexer": "ipython3",
   "version": "3.12.7"
  }
 },
 "nbformat": 4,
 "nbformat_minor": 5
}
