{
 "cells": [
  {
   "cell_type": "markdown",
   "id": "a1c00221",
   "metadata": {},
   "source": [
    "NO 2"
   ]
  },
  {
   "cell_type": "code",
   "execution_count": 1,
   "id": "7557a5d0",
   "metadata": {},
   "outputs": [],
   "source": [
    "import numpy as np"
   ]
  },
  {
   "cell_type": "code",
   "execution_count": 2,
   "id": "f189c018",
   "metadata": {},
   "outputs": [],
   "source": [
    "def f(x):\n",
    "    return np.sin(x) + x**2"
   ]
  },
  {
   "cell_type": "code",
   "execution_count": 3,
   "id": "b3c5df62",
   "metadata": {},
   "outputs": [
    {
     "name": "stdout",
     "output_type": "stream",
     "text": [
      "[0.00000000e+00 6.28125625e-04 1.25625125e-03 ... 3.13874375e+00\n",
      " 3.13937187e+00 3.14000000e+00]\n"
     ]
    }
   ],
   "source": [
    "a = 0\n",
    "b = 3.14\n",
    "points = 5000\n",
    "width = (b - a) / (points - 1)\n",
    "x = np.linspace(a, b, points)\n",
    "print(x)"
   ]
  },
  {
   "cell_type": "code",
   "execution_count": 4,
   "id": "d2587268",
   "metadata": {},
   "outputs": [
    {
     "name": "stdout",
     "output_type": "stream",
     "text": [
      "Left: 12.316616505214359\n",
      "Right: 12.322810573013951\n",
      "Middle: 12.319713328034231\n"
     ]
    }
   ],
   "source": [
    "leftRiemann = width * np.sum(f(x[:-1]))\n",
    "print(f\"Left: {leftRiemann}\")\n",
    "\n",
    "rightRiemann = width * np.sum(f(x[1:]))\n",
    "print(f\"Right: {rightRiemann}\")\n",
    "\n",
    "mid = (x[1:] + x[:-1]) / 2\n",
    "middleRiemann = width * np.sum(f(mid))\n",
    "print(f\"Middle: {middleRiemann}\")"
   ]
  }
 ],
 "metadata": {
  "kernelspec": {
   "display_name": "sciComp",
   "language": "python",
   "name": "python3"
  },
  "language_info": {
   "codemirror_mode": {
    "name": "ipython",
    "version": 3
   },
   "file_extension": ".py",
   "mimetype": "text/x-python",
   "name": "python",
   "nbconvert_exporter": "python",
   "pygments_lexer": "ipython3",
   "version": "3.12.7"
  }
 },
 "nbformat": 4,
 "nbformat_minor": 5
}
