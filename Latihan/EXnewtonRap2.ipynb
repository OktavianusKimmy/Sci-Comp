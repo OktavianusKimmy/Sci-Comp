{
 "cells": [
  {
   "cell_type": "markdown",
   "id": "eeaf949b",
   "metadata": {},
   "source": [
    "NO 2"
   ]
  },
  {
   "cell_type": "code",
   "execution_count": 1,
   "id": "b641dde2",
   "metadata": {},
   "outputs": [],
   "source": [
    "import numpy as np\n",
    "import matplotlib.pyplot as plt"
   ]
  },
  {
   "cell_type": "code",
   "execution_count": 2,
   "id": "c146f1d5",
   "metadata": {},
   "outputs": [],
   "source": [
    "def f(x):\n",
    "    return x**3 + 4*x**2 - 10\n",
    "\n",
    "def g(x):\n",
    "    return 3*x**2 + 8*x"
   ]
  },
  {
   "cell_type": "code",
   "execution_count": 3,
   "id": "3a2bfce0",
   "metadata": {},
   "outputs": [],
   "source": [
    "def newton_rapshon(x, tol = 0.005, max_iter = 20):\n",
    "    for i in range(max_iter):\n",
    "        x = x - (f(x) / g(x))\n",
    "        print(f\"Iteration {i+1}: {x}\")\n",
    "        if np.abs(f(x)) < tol:\n",
    "            print(f\"Root is found at {i+1} iteration: {x}\")\n",
    "            return x"
   ]
  },
  {
   "cell_type": "code",
   "execution_count": 4,
   "id": "0c86950b",
   "metadata": {},
   "outputs": [
    {
     "name": "stdout",
     "output_type": "stream",
     "text": [
      "Iteration 1: 1.3804597701149426\n",
      "Iteration 2: 1.3653424684632482\n",
      "Root is found at 2 iteration: 1.3653424684632482\n"
     ]
    },
    {
     "data": {
      "text/plain": [
       "1.3653424684632482"
      ]
     },
     "execution_count": 4,
     "metadata": {},
     "output_type": "execute_result"
    }
   ],
   "source": [
    "newton_rapshon(1.2)"
   ]
  }
 ],
 "metadata": {
  "kernelspec": {
   "display_name": "sciComp",
   "language": "python",
   "name": "python3"
  },
  "language_info": {
   "codemirror_mode": {
    "name": "ipython",
    "version": 3
   },
   "file_extension": ".py",
   "mimetype": "text/x-python",
   "name": "python",
   "nbconvert_exporter": "python",
   "pygments_lexer": "ipython3",
   "version": "3.12.7"
  }
 },
 "nbformat": 4,
 "nbformat_minor": 5
}
