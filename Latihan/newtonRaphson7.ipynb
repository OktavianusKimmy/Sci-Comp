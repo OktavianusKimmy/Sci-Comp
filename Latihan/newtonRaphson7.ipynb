{
 "cells": [
  {
   "cell_type": "markdown",
   "id": "34717dd0",
   "metadata": {},
   "source": [
    "NEWTON RAPHSON"
   ]
  },
  {
   "cell_type": "code",
   "execution_count": 17,
   "id": "423c782b",
   "metadata": {},
   "outputs": [],
   "source": [
    "import numpy as np"
   ]
  },
  {
   "cell_type": "code",
   "execution_count": 18,
   "id": "4bb57041",
   "metadata": {},
   "outputs": [],
   "source": [
    "def f(x):\n",
    "    return 8*x**5 - 10*x**4 + x**3 + 2*x**2 + 9*x + 13\n",
    "\n",
    "def g(x):\n",
    "    return 40*x**4 - 40*x**3 + 3*x**2 + 4*x + 9"
   ]
  },
  {
   "cell_type": "code",
   "execution_count": 19,
   "id": "1442576a",
   "metadata": {},
   "outputs": [],
   "source": [
    "def newton_raphson(x, tol = 0.055, max_iter = 50):\n",
    "    print(\"With newton raphson:\")\n",
    "    for i in range(max_iter):\n",
    "        x = x - (f(x) / g(x))\n",
    "        print(f\"Iteration # {i+1} : {x}\")\n",
    "        if np.abs(f(x)) < tol:\n",
    "            print(f\"Final root answer is {x}\")\n",
    "            return x"
   ]
  },
  {
   "cell_type": "code",
   "execution_count": 20,
   "id": "55fc92ea",
   "metadata": {},
   "outputs": [
    {
     "name": "stdout",
     "output_type": "stream",
     "text": [
      "With newton raphson:\n",
      "Iteration # 1 : 4.055760047751691\n",
      "Iteration # 2 : 3.2995992993701333\n",
      "Iteration # 3 : 2.691142040353687\n",
      "Iteration # 4 : 2.1941206124780868\n",
      "Iteration # 5 : 1.7693673505975802\n",
      "Iteration # 6 : 1.3536896666513434\n",
      "Iteration # 7 : 0.7335064821901164\n",
      "Iteration # 8 : -1.3942760169601534\n",
      "Iteration # 9 : -1.1029655134470373\n",
      "Iteration # 10 : -0.9073243206569388\n",
      "Iteration # 11 : -0.815342818303601\n",
      "Iteration # 12 : -0.7972383775051456\n",
      "Final root answer is -0.7972383775051456\n"
     ]
    },
    {
     "data": {
      "text/plain": [
       "-0.7972383775051456"
      ]
     },
     "execution_count": 20,
     "metadata": {},
     "output_type": "execute_result"
    }
   ],
   "source": [
    "newton_raphson(5)"
   ]
  }
 ],
 "metadata": {
  "kernelspec": {
   "display_name": "sciComp",
   "language": "python",
   "name": "python3"
  },
  "language_info": {
   "codemirror_mode": {
    "name": "ipython",
    "version": 3
   },
   "file_extension": ".py",
   "mimetype": "text/x-python",
   "name": "python",
   "nbconvert_exporter": "python",
   "pygments_lexer": "ipython3",
   "version": "3.12.7"
  }
 },
 "nbformat": 4,
 "nbformat_minor": 5
}
