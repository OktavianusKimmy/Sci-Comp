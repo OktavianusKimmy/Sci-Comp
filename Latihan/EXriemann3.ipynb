{
 "cells": [
  {
   "cell_type": "markdown",
   "id": "66683d51",
   "metadata": {},
   "source": [
    "NO 3"
   ]
  },
  {
   "cell_type": "code",
   "execution_count": 1,
   "id": "3f5651bd",
   "metadata": {},
   "outputs": [],
   "source": [
    "import numpy as np"
   ]
  },
  {
   "cell_type": "code",
   "execution_count": 2,
   "id": "4d1100ca",
   "metadata": {},
   "outputs": [],
   "source": [
    "def f(x):\n",
    "    return 4*x**3 - 3*x**2 + 2*x - 1"
   ]
  },
  {
   "cell_type": "code",
   "execution_count": 3,
   "id": "28a447fd",
   "metadata": {},
   "outputs": [
    {
     "name": "stdout",
     "output_type": "stream",
     "text": [
      "[2.         2.00040004 2.00080008 ... 5.99919992 5.99959996 6.        ]\n"
     ]
    }
   ],
   "source": [
    "a = 2\n",
    "b = 6\n",
    "points = 10000\n",
    "width = (b - a) / (points - 1)\n",
    "x = np.linspace(a, b, points)\n",
    "print(x)"
   ]
  },
  {
   "cell_type": "code",
   "execution_count": 4,
   "id": "df0e17b8",
   "metadata": {},
   "outputs": [
    {
     "name": "stdout",
     "output_type": "stream",
     "text": [
      "Left: 1099.8511899194723\n",
      "Right: 1100.1488196824484\n"
     ]
    }
   ],
   "source": [
    "leftRiemann = width * np.sum(f(x[:-1]))\n",
    "print(f\"Left: {leftRiemann}\")\n",
    "\n",
    "rightRiemann = width * np.sum(f(x[1:]))\n",
    "print(f\"Right: {rightRiemann}\")"
   ]
  }
 ],
 "metadata": {
  "kernelspec": {
   "display_name": "sciComp",
   "language": "python",
   "name": "python3"
  },
  "language_info": {
   "codemirror_mode": {
    "name": "ipython",
    "version": 3
   },
   "file_extension": ".py",
   "mimetype": "text/x-python",
   "name": "python",
   "nbconvert_exporter": "python",
   "pygments_lexer": "ipython3",
   "version": "3.12.7"
  }
 },
 "nbformat": 4,
 "nbformat_minor": 5
}
