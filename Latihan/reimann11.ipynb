{
 "cells": [
  {
   "cell_type": "markdown",
   "id": "d83530c8",
   "metadata": {},
   "source": [
    "RIEMANN"
   ]
  },
  {
   "cell_type": "code",
   "execution_count": 1,
   "id": "bf923617",
   "metadata": {},
   "outputs": [],
   "source": [
    "import numpy as np"
   ]
  },
  {
   "cell_type": "code",
   "execution_count": 2,
   "id": "99433fe0",
   "metadata": {},
   "outputs": [],
   "source": [
    "def f(x):\n",
    "    return 40*x**4 - 40*x**3 + 3*x**2 + 4*x - 9"
   ]
  },
  {
   "cell_type": "code",
   "execution_count": 5,
   "id": "ff2d9017",
   "metadata": {},
   "outputs": [
    {
     "name": "stdout",
     "output_type": "stream",
     "text": [
      "[ 5.          5.00016667  5.00033334 ... 14.99966666 14.99983333\n",
      " 15.        ]\n"
     ]
    }
   ],
   "source": [
    "a = 5\n",
    "b = 15\n",
    "points = 60000\n",
    "width = (b - a) / (points - 1)\n",
    "x = np.linspace(a, b, points)\n",
    "print(x)"
   ]
  },
  {
   "cell_type": "markdown",
   "id": "6193d866",
   "metadata": {},
   "source": [
    "LEFT RIEMANN"
   ]
  },
  {
   "cell_type": "code",
   "execution_count": 6,
   "id": "ae493207",
   "metadata": {},
   "outputs": [
    {
     "name": "stdout",
     "output_type": "stream",
     "text": [
      "5553404.111883503\n"
     ]
    }
   ],
   "source": [
    "leftRiemann = width * np.sum(f(x[:-1]))\n",
    "print(leftRiemann)"
   ]
  },
  {
   "cell_type": "markdown",
   "id": "4fc79c69",
   "metadata": {},
   "source": [
    "RIGHT RIEMANN"
   ]
  },
  {
   "cell_type": "code",
   "execution_count": 7,
   "id": "9f25e977",
   "metadata": {},
   "outputs": [
    {
     "name": "stdout",
     "output_type": "stream",
     "text": [
      "5553715.890413146\n"
     ]
    }
   ],
   "source": [
    "rightRiemann = width * np.sum(f(x[1:]))\n",
    "print(rightRiemann)"
   ]
  },
  {
   "cell_type": "markdown",
   "id": "eaa5639f",
   "metadata": {},
   "source": [
    "MIDDLE RIEMANN"
   ]
  },
  {
   "cell_type": "code",
   "execution_count": 8,
   "id": "4c514795",
   "metadata": {},
   "outputs": [
    {
     "name": "stdout",
     "output_type": "stream",
     "text": [
      "5553559.999425837\n"
     ]
    }
   ],
   "source": [
    "mid = (x[:-1] + x[1:]) / 2\n",
    "\n",
    "middleRiemann = width * np.sum(f(mid))\n",
    "print(middleRiemann)"
   ]
  },
  {
   "cell_type": "markdown",
   "id": "33e6f3ec",
   "metadata": {},
   "source": [
    "TRAPEZOID RULE"
   ]
  },
  {
   "cell_type": "code",
   "execution_count": 9,
   "id": "aac4790e",
   "metadata": {},
   "outputs": [
    {
     "name": "stdout",
     "output_type": "stream",
     "text": [
      "5553560.001148324\n"
     ]
    }
   ],
   "source": [
    "trapezoid = (width / 2) * (f(x[0]) + np.sum(2 * f(x[1:-1])) + f(x[-1]))\n",
    "print(trapezoid)"
   ]
  }
 ],
 "metadata": {
  "kernelspec": {
   "display_name": "sciComp",
   "language": "python",
   "name": "python3"
  },
  "language_info": {
   "codemirror_mode": {
    "name": "ipython",
    "version": 3
   },
   "file_extension": ".py",
   "mimetype": "text/x-python",
   "name": "python",
   "nbconvert_exporter": "python",
   "pygments_lexer": "ipython3",
   "version": "3.12.7"
  }
 },
 "nbformat": 4,
 "nbformat_minor": 5
}
