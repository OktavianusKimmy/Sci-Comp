{
 "cells": [
  {
   "cell_type": "markdown",
   "id": "c223e957",
   "metadata": {},
   "source": [
    "NO 1"
   ]
  },
  {
   "cell_type": "code",
   "execution_count": 2,
   "id": "857f3aea",
   "metadata": {},
   "outputs": [],
   "source": [
    "import numpy as np"
   ]
  },
  {
   "cell_type": "code",
   "execution_count": 1,
   "id": "7bccd371",
   "metadata": {},
   "outputs": [],
   "source": [
    "def f(x):\n",
    "    return x**3 - x -2\n",
    "\n",
    "def g(x):\n",
    "    return 3*x**2 - 1"
   ]
  },
  {
   "cell_type": "code",
   "execution_count": 3,
   "id": "e70887e2",
   "metadata": {},
   "outputs": [],
   "source": [
    "def newton_raphson(x, tol = 0.01, max_iter = 20):\n",
    "    for i in range(max_iter):\n",
    "        x = x - (f(x) / g(x))\n",
    "        print(f\"Iteration {i + 1}: {x}\")\n",
    "        if np.abs(f(x)) < tol:\n",
    "            print(f\"Root is found at {i+1} iteration : {x}\")\n",
    "            return x"
   ]
  },
  {
   "cell_type": "code",
   "execution_count": 4,
   "id": "0864dc9b",
   "metadata": {},
   "outputs": [
    {
     "name": "stdout",
     "output_type": "stream",
     "text": [
      "Iteration 1: 1.5217391304347827\n",
      "Root is found at 1 iteration : 1.5217391304347827\n"
     ]
    },
    {
     "data": {
      "text/plain": [
       "1.5217391304347827"
      ]
     },
     "execution_count": 4,
     "metadata": {},
     "output_type": "execute_result"
    }
   ],
   "source": [
    "newton_raphson(1.5)"
   ]
  }
 ],
 "metadata": {
  "kernelspec": {
   "display_name": "sciComp",
   "language": "python",
   "name": "python3"
  },
  "language_info": {
   "codemirror_mode": {
    "name": "ipython",
    "version": 3
   },
   "file_extension": ".py",
   "mimetype": "text/x-python",
   "name": "python",
   "nbconvert_exporter": "python",
   "pygments_lexer": "ipython3",
   "version": "3.12.7"
  }
 },
 "nbformat": 4,
 "nbformat_minor": 5
}
